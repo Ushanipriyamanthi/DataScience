{
 "cells": [
  {
   "cell_type": "markdown",
   "id": "9a74c34c",
   "metadata": {},
   "source": [
    "# Data Science Tools and Ecosystem\n",
    "\n"
   ]
  },
  {
   "cell_type": "markdown",
   "id": "c5e77cc1",
   "metadata": {},
   "source": [
    "## Introduction\n",
    "\n",
    "In this Jupyter Notebook, we will provide a comprehensive overview and summary of the Data Science Tools and Ecosystem. We will explore the key tools, technologies, and techniques that are essential for modern data science practices. Whether you are a beginner looking to get started in data science or an experienced practitioner seeking to stay updated with the latest tools and trends, this notebook aims to be a valuable resource for your data science journey.\n"
   ]
  },
  {
   "cell_type": "markdown",
   "id": "58910e57",
   "metadata": {},
   "source": [
    "## Data Science Languages\n",
    "\n",
    "Some of the popular languages that Data Scientists use are:\n",
    "\n",
    "1. **Python**: Python is one of the most widely used programming languages in data science. It offers a rich ecosystem of libraries and tools like NumPy, Pandas, Matplotlib, and Scikit-Learn that make it an ideal choice for data analysis, machine learning, and visualization.\n",
    "\n",
    "2. **R**: R is a language specifically designed for statistical analysis and data visualization. It is known for its extensive collection of packages for statistical modeling and data manipulation, making it a preferred choice for statisticians and data analysts.\n",
    "\n",
    "3. **SQL**: While not a traditional programming language, SQL (Structured Query Language) is essential for working with relational databases. Data scientists often use SQL to extract, manipulate, and analyze data stored in databases.\n",
    "\n",
    "4. **Julia**: Julia is gaining popularity in the data science community due to its high-performance capabilities. It is well-suited for numerical and scientific computing tasks, making it a choice for those who require speed and efficiency in their data analysis.\n",
    "\n",
    "5. **SAS**: SAS (Statistical Analysis System) is a software suite that includes a programming language. It has a strong presence in the industry, particularly in the fields of healthcare, finance, and business analytics.\n",
    "\n",
    "6. **Scala**: Scala, in combination with Apache Spark, is a powerful choice for big data processing and machine learning. It is known for its concise syntax and compatibility with Java libraries.\n",
    "\n",
    "These languages provide data scientists with a wide range of tools and capabilities to tackle diverse data analysis and modeling tasks.\n"
   ]
  },
  {
   "cell_type": "markdown",
   "id": "1255a2c6",
   "metadata": {},
   "source": [
    "## Data Science Libraries\n",
    "\n",
    "Some of the commonly used libraries used by Data Scientists include:\n",
    "\n",
    "1. **NumPy**: NumPy is a fundamental library for numerical computing in Python. It provides support for arrays and matrices, as well as a wide range of mathematical functions. Data scientists use NumPy for efficient data manipulation and computation.\n",
    "\n",
    "2. **Pandas**: Pandas is a popular data manipulation library for Python. It offers data structures like DataFrames and Series, making it easy to clean, transform, and analyze data. Pandas is widely used for data exploration and preprocessing.\n",
    "\n",
    "3. **Scikit-Learn**: Scikit-Learn is a machine learning library for Python. It provides a wide variety of machine learning algorithms for classification, regression, clustering, and more. Data scientists use Scikit-Learn for building and evaluating predictive models.\n",
    "\n",
    "4. **Matplotlib**: Matplotlib is a powerful plotting library for Python. It enables the creation of a wide range of static, animated, or interactive plots and visualizations, which are crucial for data exploration and communication.\n",
    "\n",
    "5. **Seaborn**: Seaborn is a data visualization library built on top of Matplotlib. It offers a high-level interface for creating attractive and informative statistical graphics. Data scientists often use Seaborn for creating visually appealing plots.\n",
    "\n",
    "6. **TensorFlow**: TensorFlow is an open-source machine learning framework developed by Google. It is widely used for building deep learning models, neural networks, and other machine learning tasks.\n",
    "\n",
    "7. **PyTorch**: PyTorch is another popular deep learning framework that provides a flexible and dynamic approach to building neural networks. It is known for its ease of use and dynamic computation graph.\n",
    "\n",
    "8. **SQLAlchemy**: SQLAlchemy is a SQL toolkit and Object-Relational Mapping (ORM) library for Python. Data scientists use it for working with databases and integrating SQL queries into their data analysis pipelines.\n",
    "\n",
    "These libraries play a crucial role in the toolkit of a data scientist, enabling them to perform a wide range of tasks, from data manipulation and exploration to machine learning and visualization.\n"
   ]
  },
  {
   "cell_type": "markdown",
   "id": "e813cd7e",
   "metadata": {},
   "source": [
    "## Data Science Tools\n",
    "\n",
    "| Data Science Tools     |\n",
    "|-----------------------  |\n",
    "| Jupyter Notebook        |\n",
    "| RStudio                 |\n",
    "| Visual Studio Code (VS Code) |\n"
   ]
  },
  {
   "cell_type": "markdown",
   "id": "67d22255",
   "metadata": {},
   "source": [
    "### Evaluating Arithmetic Expressions in Python\n",
    "\n",
    "In this section, we'll explore a few examples of evaluating arithmetic expressions in Python. Arithmetic expressions involve mathematical operations such as addition, subtraction, multiplication, and division. Python is a versatile programming language that allows us to perform these operations easily, making it a valuable tool for data scientists and programmers in various fields.\n",
    "\n",
    "Below are a few examples of evaluating arithmetic expressions in Python:\n"
   ]
  },
  {
   "cell_type": "code",
   "execution_count": 1,
   "id": "3e129286",
   "metadata": {},
   "outputs": [
    {
     "data": {
      "text/plain": [
       "17"
      ]
     },
     "execution_count": 1,
     "metadata": {},
     "output_type": "execute_result"
    }
   ],
   "source": [
    "# This is a simple arithmetic expression to multiply then add integers.\n",
    "result = (3 * 4) + 5\n",
    "\n",
    "result\n"
   ]
  },
  {
   "cell_type": "code",
   "execution_count": 2,
   "id": "8328fa81",
   "metadata": {},
   "outputs": [
    {
     "data": {
      "text/plain": [
       "3.3333333333333335"
      ]
     },
     "execution_count": 2,
     "metadata": {},
     "output_type": "execute_result"
    }
   ],
   "source": [
    "# This will convert 200 minutes to hours by dividing by 60.\n",
    "minutes = 200\n",
    "hours = minutes / 60\n",
    "\n",
    "hours\n"
   ]
  },
  {
   "cell_type": "markdown",
   "id": "a82009f4",
   "metadata": {},
   "source": [
    "## Objectives:\n",
    "\n",
    "- List popular languages for Data Science.\n",
    "- Explore commonly used libraries in Data Science.\n",
    "- Evaluate arithmetic expressions in Python.\n",
    "- Convert minutes to hours using Python.\n",
    "- Understand the basics of data science tools and ecosystem.\n"
   ]
  },
  {
   "cell_type": "markdown",
   "id": "a8fe91ed",
   "metadata": {},
   "source": [
    "## Author\n",
    "\n",
    "Ushani Priyamanthi\n"
   ]
  },
  {
   "cell_type": "code",
   "execution_count": null,
   "id": "5049b3eb",
   "metadata": {},
   "outputs": [],
   "source": []
  }
 ],
 "metadata": {
  "kernelspec": {
   "display_name": "Python 3 (ipykernel)",
   "language": "python",
   "name": "python3"
  },
  "language_info": {
   "codemirror_mode": {
    "name": "ipython",
    "version": 3
   },
   "file_extension": ".py",
   "mimetype": "text/x-python",
   "name": "python",
   "nbconvert_exporter": "python",
   "pygments_lexer": "ipython3",
   "version": "3.11.4"
  }
 },
 "nbformat": 4,
 "nbformat_minor": 5
}
